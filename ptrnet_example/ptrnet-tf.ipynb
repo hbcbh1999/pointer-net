{
 "cells": [
  {
   "cell_type": "code",
   "execution_count": 98,
   "metadata": {},
   "outputs": [],
   "source": [
    "import tensorflow as tf\n",
    "from tensorflow.contrib.layers import xavier_initializer as xinit"
   ]
  },
  {
   "cell_type": "markdown",
   "metadata": {
    "collapsed": true
   },
   "source": [
    "- input size : [BxL]\n",
    "- hdim : [10]\n",
    "- num_pointers : [1] (2)\n",
    "- batch_size : 32"
   ]
  },
  {
   "cell_type": "code",
   "execution_count": 99,
   "metadata": {
    "collapsed": true
   },
   "outputs": [],
   "source": [
    "B = 32\n",
    "L = 20\n",
    "hdim = 10\n",
    "num_pointers = 2\n",
    "vocab_size = 11"
   ]
  },
  {
   "cell_type": "code",
   "execution_count": 100,
   "metadata": {
    "collapsed": true
   },
   "outputs": [],
   "source": [
    "DECODE_SYM = 10"
   ]
  },
  {
   "cell_type": "code",
   "execution_count": 101,
   "metadata": {
    "collapsed": true
   },
   "outputs": [],
   "source": [
    "tf.reset_default_graph()"
   ]
  },
  {
   "cell_type": "code",
   "execution_count": 102,
   "metadata": {},
   "outputs": [],
   "source": [
    "ip_seq = tf.placeholder(dtype=tf.int64, shape=[B, L], name='ip_seq')"
   ]
  },
  {
   "cell_type": "code",
   "execution_count": 103,
   "metadata": {
    "collapsed": true
   },
   "outputs": [],
   "source": [
    "label = tf.placeholder(dtype=tf.int64, shape=[num_pointers, B], name='label')"
   ]
  },
  {
   "cell_type": "code",
   "execution_count": 104,
   "metadata": {
    "collapsed": true
   },
   "outputs": [],
   "source": [
    "emb_mat = tf.get_variable('emb', [vocab_size, hdim],\n",
    "                         initializer=xinit())"
   ]
  },
  {
   "cell_type": "code",
   "execution_count": 105,
   "metadata": {},
   "outputs": [],
   "source": [
    "emb_ip_seq = tf.nn.embedding_lookup(emb_mat, ip_seq)"
   ]
  },
  {
   "cell_type": "code",
   "execution_count": 106,
   "metadata": {},
   "outputs": [],
   "source": [
    "with tf.variable_scope('encoder'):\n",
    "    ecell = tf.contrib.rnn.LSTMCell(hdim)\n",
    "    enc_init_state = ecell.zero_state(B, dtype=tf.float32)\n",
    "    enc_outputs, final_enc_state = tf.nn.dynamic_rnn(ecell,\n",
    "                                                    inputs=emb_ip_seq,\n",
    "                                                    initial_state=enc_init_state)"
   ]
  },
  {
   "cell_type": "code",
   "execution_count": 107,
   "metadata": {
    "collapsed": true
   },
   "outputs": [],
   "source": [
    "DECODE_SYM_TF = tf.constant(DECODE_SYM,\n",
    "                           shape=[B],\n",
    "                           dtype=tf.int64)"
   ]
  },
  {
   "cell_type": "code",
   "execution_count": 108,
   "metadata": {
    "collapsed": true
   },
   "outputs": [],
   "source": [
    "emb_dec_sym = tf.nn.embedding_lookup(emb_mat, DECODE_SYM_TF)"
   ]
  },
  {
   "cell_type": "code",
   "execution_count": 109,
   "metadata": {},
   "outputs": [],
   "source": [
    "dec_state = final_enc_state\n",
    "dec_input = emb_dec_sym"
   ]
  },
  {
   "cell_type": "code",
   "execution_count": 110,
   "metadata": {},
   "outputs": [],
   "source": [
    "with tf.variable_scope('decoder'):\n",
    "    dcell = tf.contrib.rnn.LSTMCell(hdim)\n",
    "    a_j = []\n",
    "    dec_outputs = []\n",
    "    logits = []\n",
    "    range_ = tf.range(start=0, limit=B, dtype=tf.int64)\n",
    "    \n",
    "    for i in range(num_pointers):\n",
    "        if i > 0:\n",
    "            tf.get_variable_scope().reuse_variables()\n",
    "            \n",
    "        dec_output, dec_state = dcell(dec_input, dec_state)\n",
    "\n",
    "        v = tf.get_variable('v_blend', [hdim, 1], initializer=xinit())\n",
    "        We = tf.get_variable(dtype=tf.float32, shape=[hdim, hdim], name='We')\n",
    "        Wd = tf.get_variable(dtype=tf.float32, shape=[hdim, hdim], name='Wd')\n",
    "\n",
    "        enc_outputs_reshaped = tf.reshape( enc_outputs, [B*L, hdim] )\n",
    "        u_j = tf.reshape(tf.matmul(enc_outputs_reshaped, We), [B,L,hdim]) + tf.expand_dims(tf.matmul(dec_state.c, Wd), axis=1)\n",
    "        u_j = tf.matmul(tf.reshape(u_j, [B*L, hdim]), v)\n",
    "\n",
    "        logit = tf.reshape(u_j, [B,L])\n",
    "        a_j_i = tf.nn.softmax(logit)\n",
    "        pointer_idx = tf.stack([range_, tf.argmax(a_j_i, axis=1)])\n",
    "        pointer_idx = tf.transpose(pointer_idx)\n",
    "        \n",
    "        dec_input = tf.nn.embedding_lookup(emb_mat,\n",
    "                                           tf.gather_nd(ip_seq, pointer_idx))\n",
    "        logits.append(logit)\n",
    "        dec_outputs.append(tf.argmax(a_j_i, axis=1))"
   ]
  },
  {
   "cell_type": "code",
   "execution_count": 120,
   "metadata": {},
   "outputs": [],
   "source": [
    "cross_entropy = tf.nn.sparse_softmax_cross_entropy_with_logits(labels=label, \n",
    "                                               logits=tf.stack(logits))"
   ]
  },
  {
   "cell_type": "code",
   "execution_count": 121,
   "metadata": {},
   "outputs": [],
   "source": [
    "loss = tf.reduce_mean(cross_entropy)"
   ]
  },
  {
   "cell_type": "code",
   "execution_count": 122,
   "metadata": {},
   "outputs": [],
   "source": [
    "optimizer = tf.train.AdadeltaOptimizer(learning_rate=1.0)"
   ]
  },
  {
   "cell_type": "code",
   "execution_count": 123,
   "metadata": {},
   "outputs": [],
   "source": [
    "train_op = optimizer.minimize(loss)"
   ]
  },
  {
   "cell_type": "code",
   "execution_count": 124,
   "metadata": {
    "collapsed": true
   },
   "outputs": [],
   "source": [
    "sess = tf.InteractiveSession()\n",
    "sess.run(tf.global_variables_initializer())"
   ]
  },
  {
   "cell_type": "code",
   "execution_count": 136,
   "metadata": {
    "collapsed": true
   },
   "outputs": [],
   "source": [
    "num_epochs = 100000"
   ]
  },
  {
   "cell_type": "code",
   "execution_count": 139,
   "metadata": {
    "collapsed": true
   },
   "outputs": [
    {
     "name": "stdout",
     "output_type": "stream",
     "text": [
      "30 : 0.6958453375846148\n",
      "60 : 0.6953677218407393\n",
      "90 : 0.6944473795592785\n",
      "120 : 0.6941793970763683\n",
      "150 : 0.6940209772437811\n",
      "180 : 0.6941094025969505\n",
      "210 : 0.6939002405852079\n",
      "240 : 0.6940827872604132\n",
      "270 : 0.6938756164163351\n",
      "300 : 0.6938037294894457\n",
      "330 : 0.6938047539442778\n",
      "360 : 0.6938310135155916\n",
      "390 : 0.6939037032425404\n"
     ]
    },
    {
     "ename": "KeyboardInterrupt",
     "evalue": "",
     "output_type": "error",
     "traceback": [
      "\u001b[0;31m---------------------------------------------------------------------------\u001b[0m",
      "\u001b[0;31mKeyboardInterrupt\u001b[0m                         Traceback (most recent call last)",
      "\u001b[0;32m<ipython-input-139-25df8aa4f86e>\u001b[0m in \u001b[0;36m<module>\u001b[0;34m()\u001b[0m\n\u001b[1;32m      4\u001b[0m         loss_v, _ = sess.run([loss, train_op], feed_dict= {\n\u001b[1;32m      5\u001b[0m             \u001b[0mip_seq\u001b[0m \u001b[0;34m:\u001b[0m \u001b[0mtrain_batches\u001b[0m\u001b[0;34m[\u001b[0m\u001b[0;36m0\u001b[0m\u001b[0;34m]\u001b[0m\u001b[0;34m[\u001b[0m\u001b[0;36m0\u001b[0m\u001b[0;34m]\u001b[0m\u001b[0;34m,\u001b[0m\u001b[0;34m\u001b[0m\u001b[0m\n\u001b[0;32m----> 6\u001b[0;31m             \u001b[0mlabel\u001b[0m \u001b[0;34m:\u001b[0m \u001b[0mtrain_batches\u001b[0m\u001b[0;34m[\u001b[0m\u001b[0;36m0\u001b[0m\u001b[0;34m]\u001b[0m\u001b[0;34m[\u001b[0m\u001b[0;36m1\u001b[0m\u001b[0;34m]\u001b[0m\u001b[0;34m\u001b[0m\u001b[0m\n\u001b[0m\u001b[1;32m      7\u001b[0m         })\n\u001b[1;32m      8\u001b[0m         \u001b[0mavg_loss\u001b[0m \u001b[0;34m+=\u001b[0m \u001b[0mloss_v\u001b[0m\u001b[0;34m\u001b[0m\u001b[0m\n",
      "\u001b[0;32m/usr/local/lib/python3.5/dist-packages/tensorflow/python/client/session.py\u001b[0m in \u001b[0;36mrun\u001b[0;34m(self, fetches, feed_dict, options, run_metadata)\u001b[0m\n\u001b[1;32m    776\u001b[0m     \u001b[0;32mtry\u001b[0m\u001b[0;34m:\u001b[0m\u001b[0;34m\u001b[0m\u001b[0m\n\u001b[1;32m    777\u001b[0m       result = self._run(None, fetches, feed_dict, options_ptr,\n\u001b[0;32m--> 778\u001b[0;31m                          run_metadata_ptr)\n\u001b[0m\u001b[1;32m    779\u001b[0m       \u001b[0;32mif\u001b[0m \u001b[0mrun_metadata\u001b[0m\u001b[0;34m:\u001b[0m\u001b[0;34m\u001b[0m\u001b[0m\n\u001b[1;32m    780\u001b[0m         \u001b[0mproto_data\u001b[0m \u001b[0;34m=\u001b[0m \u001b[0mtf_session\u001b[0m\u001b[0;34m.\u001b[0m\u001b[0mTF_GetBuffer\u001b[0m\u001b[0;34m(\u001b[0m\u001b[0mrun_metadata_ptr\u001b[0m\u001b[0;34m)\u001b[0m\u001b[0;34m\u001b[0m\u001b[0m\n",
      "\u001b[0;32m/usr/local/lib/python3.5/dist-packages/tensorflow/python/client/session.py\u001b[0m in \u001b[0;36m_run\u001b[0;34m(self, handle, fetches, feed_dict, options, run_metadata)\u001b[0m\n\u001b[1;32m    980\u001b[0m     \u001b[0;32mif\u001b[0m \u001b[0mfinal_fetches\u001b[0m \u001b[0;32mor\u001b[0m \u001b[0mfinal_targets\u001b[0m\u001b[0;34m:\u001b[0m\u001b[0;34m\u001b[0m\u001b[0m\n\u001b[1;32m    981\u001b[0m       results = self._do_run(handle, final_targets, final_fetches,\n\u001b[0;32m--> 982\u001b[0;31m                              feed_dict_string, options, run_metadata)\n\u001b[0m\u001b[1;32m    983\u001b[0m     \u001b[0;32melse\u001b[0m\u001b[0;34m:\u001b[0m\u001b[0;34m\u001b[0m\u001b[0m\n\u001b[1;32m    984\u001b[0m       \u001b[0mresults\u001b[0m \u001b[0;34m=\u001b[0m \u001b[0;34m[\u001b[0m\u001b[0;34m]\u001b[0m\u001b[0;34m\u001b[0m\u001b[0m\n",
      "\u001b[0;32m/usr/local/lib/python3.5/dist-packages/tensorflow/python/client/session.py\u001b[0m in \u001b[0;36m_do_run\u001b[0;34m(self, handle, target_list, fetch_list, feed_dict, options, run_metadata)\u001b[0m\n\u001b[1;32m   1030\u001b[0m     \u001b[0;32mif\u001b[0m \u001b[0mhandle\u001b[0m \u001b[0;32mis\u001b[0m \u001b[0;32mNone\u001b[0m\u001b[0;34m:\u001b[0m\u001b[0;34m\u001b[0m\u001b[0m\n\u001b[1;32m   1031\u001b[0m       return self._do_call(_run_fn, self._session, feed_dict, fetch_list,\n\u001b[0;32m-> 1032\u001b[0;31m                            target_list, options, run_metadata)\n\u001b[0m\u001b[1;32m   1033\u001b[0m     \u001b[0;32melse\u001b[0m\u001b[0;34m:\u001b[0m\u001b[0;34m\u001b[0m\u001b[0m\n\u001b[1;32m   1034\u001b[0m       return self._do_call(_prun_fn, self._session, handle, feed_dict,\n",
      "\u001b[0;32m/usr/local/lib/python3.5/dist-packages/tensorflow/python/client/session.py\u001b[0m in \u001b[0;36m_do_call\u001b[0;34m(self, fn, *args)\u001b[0m\n\u001b[1;32m   1037\u001b[0m   \u001b[0;32mdef\u001b[0m \u001b[0m_do_call\u001b[0m\u001b[0;34m(\u001b[0m\u001b[0mself\u001b[0m\u001b[0;34m,\u001b[0m \u001b[0mfn\u001b[0m\u001b[0;34m,\u001b[0m \u001b[0;34m*\u001b[0m\u001b[0margs\u001b[0m\u001b[0;34m)\u001b[0m\u001b[0;34m:\u001b[0m\u001b[0;34m\u001b[0m\u001b[0m\n\u001b[1;32m   1038\u001b[0m     \u001b[0;32mtry\u001b[0m\u001b[0;34m:\u001b[0m\u001b[0;34m\u001b[0m\u001b[0m\n\u001b[0;32m-> 1039\u001b[0;31m       \u001b[0;32mreturn\u001b[0m \u001b[0mfn\u001b[0m\u001b[0;34m(\u001b[0m\u001b[0;34m*\u001b[0m\u001b[0margs\u001b[0m\u001b[0;34m)\u001b[0m\u001b[0;34m\u001b[0m\u001b[0m\n\u001b[0m\u001b[1;32m   1040\u001b[0m     \u001b[0;32mexcept\u001b[0m \u001b[0merrors\u001b[0m\u001b[0;34m.\u001b[0m\u001b[0mOpError\u001b[0m \u001b[0;32mas\u001b[0m \u001b[0me\u001b[0m\u001b[0;34m:\u001b[0m\u001b[0;34m\u001b[0m\u001b[0m\n\u001b[1;32m   1041\u001b[0m       \u001b[0mmessage\u001b[0m \u001b[0;34m=\u001b[0m \u001b[0mcompat\u001b[0m\u001b[0;34m.\u001b[0m\u001b[0mas_text\u001b[0m\u001b[0;34m(\u001b[0m\u001b[0me\u001b[0m\u001b[0;34m.\u001b[0m\u001b[0mmessage\u001b[0m\u001b[0;34m)\u001b[0m\u001b[0;34m\u001b[0m\u001b[0m\n",
      "\u001b[0;32m/usr/local/lib/python3.5/dist-packages/tensorflow/python/client/session.py\u001b[0m in \u001b[0;36m_run_fn\u001b[0;34m(session, feed_dict, fetch_list, target_list, options, run_metadata)\u001b[0m\n\u001b[1;32m   1019\u001b[0m         return tf_session.TF_Run(session, options,\n\u001b[1;32m   1020\u001b[0m                                  \u001b[0mfeed_dict\u001b[0m\u001b[0;34m,\u001b[0m \u001b[0mfetch_list\u001b[0m\u001b[0;34m,\u001b[0m \u001b[0mtarget_list\u001b[0m\u001b[0;34m,\u001b[0m\u001b[0;34m\u001b[0m\u001b[0m\n\u001b[0;32m-> 1021\u001b[0;31m                                  status, run_metadata)\n\u001b[0m\u001b[1;32m   1022\u001b[0m \u001b[0;34m\u001b[0m\u001b[0m\n\u001b[1;32m   1023\u001b[0m     \u001b[0;32mdef\u001b[0m \u001b[0m_prun_fn\u001b[0m\u001b[0;34m(\u001b[0m\u001b[0msession\u001b[0m\u001b[0;34m,\u001b[0m \u001b[0mhandle\u001b[0m\u001b[0;34m,\u001b[0m \u001b[0mfeed_dict\u001b[0m\u001b[0;34m,\u001b[0m \u001b[0mfetch_list\u001b[0m\u001b[0;34m)\u001b[0m\u001b[0;34m:\u001b[0m\u001b[0;34m\u001b[0m\u001b[0m\n",
      "\u001b[0;31mKeyboardInterrupt\u001b[0m: "
     ]
    }
   ],
   "source": [
    "for i in range(num_epochs):\n",
    "    avg_loss = 0\n",
    "    for j in range(len(train_batches)):\n",
    "        loss_v, _ = sess.run([loss, train_op], feed_dict= {\n",
    "            ip_seq : train_batches[0][0],\n",
    "            label : train_batches[0][1]\n",
    "        })\n",
    "        avg_loss += loss_v\n",
    "    if i%30 == 0 and i:\n",
    "        print('{} : {}'.format(i, avg_loss/len(train_batches)))\n",
    "        "
   ]
  },
  {
   "cell_type": "code",
   "execution_count": 146,
   "metadata": {
    "collapsed": true
   },
   "outputs": [],
   "source": [
    "op = sess.run([logits], feed_dict = {\n",
    "    ip_seq : train_batches[10][0],\n",
    "    label : train_batches[10][1]\n",
    "})"
   ]
  },
  {
   "cell_type": "code",
   "execution_count": 145,
   "metadata": {},
   "outputs": [
    {
     "data": {
      "text/plain": [
       "array([[ 5,  4,  4,  4,  5,  6,  6,  6,  5,  6,  6,  4,  6,  5,  6,  5,  5,\n",
       "         6,  4,  5,  6,  4,  5,  5,  5,  6,  4,  5,  6,  5,  5,  5],\n",
       "       [ 9,  9,  7,  7,  9, 11, 10, 10, 10,  9, 10,  7,  9, 10, 10,  8, 10,\n",
       "        11,  9,  8, 10,  8, 10,  9,  9,  9,  9, 10, 10, 10,  8, 10]])"
      ]
     },
     "execution_count": 145,
     "metadata": {},
     "output_type": "execute_result"
    }
   ],
   "source": [
    "train_batches[10][1]"
   ]
  },
  {
   "cell_type": "code",
   "execution_count": 152,
   "metadata": {},
   "outputs": [
    {
     "data": {
      "text/plain": [
       "array([[5, 3, 2, 4, 3, 6, 8, 6, 9, 6, 3, 3, 3, 1, 3, 4, 0, 0, 0, 0],\n",
       "       [1, 5, 2, 5, 8, 9, 6, 6, 9, 9, 3, 4, 3, 3, 2, 1, 0, 0, 0, 0],\n",
       "       [1, 3, 3, 3, 7, 6, 9, 6, 2, 1, 2, 1, 1, 0, 0, 0, 0, 0, 0, 0],\n",
       "       [3, 3, 4, 3, 7, 7, 8, 8, 2, 5, 3, 4, 1, 3, 0, 0, 0, 0, 0, 0],\n",
       "       [3, 2, 3, 2, 3, 6, 9, 9, 7, 6, 5, 4, 2, 2, 2, 0, 0, 0, 0, 0],\n",
       "       [3, 1, 3, 4, 2, 4, 6, 9, 7, 6, 7, 7, 4, 1, 1, 3, 4, 0, 0, 0],\n",
       "       [1, 5, 2, 1, 5, 5, 7, 9, 9, 8, 9, 1, 1, 2, 3, 1, 0, 0, 0, 0],\n",
       "       [4, 5, 5, 3, 3, 4, 8, 6, 7, 6, 8, 2, 2, 1, 5, 0, 0, 0, 0, 0],\n",
       "       [4, 1, 4, 3, 3, 7, 8, 9, 8, 9, 8, 1, 4, 2, 2, 0, 0, 0, 0, 0],\n",
       "       [2, 4, 4, 2, 2, 5, 6, 6, 9, 6, 5, 3, 2, 2, 1, 0, 0, 0, 0, 0],\n",
       "       [1, 1, 5, 3, 5, 4, 7, 9, 9, 6, 9, 3, 3, 2, 4, 3, 0, 0, 0, 0],\n",
       "       [2, 3, 5, 3, 6, 8, 8, 8, 3, 1, 2, 2, 0, 0, 0, 0, 0, 0, 0, 0],\n",
       "       [5, 5, 5, 5, 5, 2, 9, 9, 8, 9, 3, 1, 4, 3, 4, 5, 0, 0, 0, 0],\n",
       "       [1, 4, 1, 1, 1, 7, 8, 6, 6, 9, 6, 5, 5, 5, 3, 0, 0, 0, 0, 0],\n",
       "       [4, 4, 1, 4, 5, 3, 7, 7, 9, 7, 8, 1, 3, 1, 2, 4, 2, 0, 0, 0],\n",
       "       [2, 1, 2, 2, 1, 7, 8, 8, 6, 4, 5, 3, 1, 0, 0, 0, 0, 0, 0, 0],\n",
       "       [3, 3, 5, 5, 1, 6, 6, 9, 9, 7, 7, 4, 1, 3, 2, 0, 0, 0, 0, 0],\n",
       "       [5, 3, 3, 1, 3, 5, 8, 7, 9, 6, 6, 6, 2, 5, 4, 1, 5, 3, 0, 0],\n",
       "       [4, 1, 2, 2, 8, 9, 6, 6, 9, 7, 5, 4, 2, 5, 2, 5, 0, 0, 0, 0],\n",
       "       [1, 5, 2, 3, 4, 8, 8, 8, 8, 5, 4, 3, 3, 0, 0, 0, 0, 0, 0, 0],\n",
       "       [3, 2, 3, 2, 2, 3, 7, 8, 9, 9, 9, 3, 5, 3, 1, 3, 0, 0, 0, 0],\n",
       "       [2, 2, 2, 1, 8, 6, 8, 9, 7, 5, 3, 1, 3, 5, 0, 0, 0, 0, 0, 0],\n",
       "       [4, 1, 4, 5, 2, 8, 8, 7, 7, 8, 8, 2, 5, 3, 1, 4, 0, 0, 0, 0],\n",
       "       [2, 3, 1, 5, 3, 9, 9, 9, 8, 6, 3, 2, 3, 2, 0, 0, 0, 0, 0, 0],\n",
       "       [5, 4, 3, 2, 5, 6, 6, 8, 8, 8, 4, 5, 3, 3, 4, 3, 0, 0, 0, 0],\n",
       "       [1, 2, 2, 5, 3, 2, 6, 9, 7, 8, 1, 1, 2, 5, 1, 0, 0, 0, 0, 0],\n",
       "       [2, 1, 3, 4, 8, 6, 8, 8, 7, 9, 5, 3, 1, 3, 3, 5, 0, 0, 0, 0],\n",
       "       [3, 2, 1, 3, 4, 7, 9, 7, 7, 6, 6, 3, 2, 5, 4, 2, 3, 0, 0, 0],\n",
       "       [3, 1, 4, 3, 3, 1, 7, 9, 9, 9, 7, 2, 5, 2, 2, 0, 0, 0, 0, 0],\n",
       "       [5, 3, 5, 5, 1, 8, 7, 8, 6, 9, 8, 4, 1, 1, 4, 0, 0, 0, 0, 0],\n",
       "       [2, 2, 5, 5, 5, 8, 8, 7, 8, 1, 2, 4, 4, 3, 2, 0, 0, 0, 0, 0],\n",
       "       [2, 5, 4, 1, 5, 9, 9, 9, 6, 8, 9, 5, 2, 1, 1, 4, 2, 0, 0, 0]])"
      ]
     },
     "execution_count": 152,
     "metadata": {},
     "output_type": "execute_result"
    }
   ],
   "source": [
    "train_batches[10][0]"
   ]
  },
  {
   "cell_type": "markdown",
   "metadata": {},
   "source": [
    "## DATA"
   ]
  },
  {
   "cell_type": "code",
   "execution_count": 126,
   "metadata": {
    "collapsed": true
   },
   "outputs": [],
   "source": [
    "import random\n",
    "import numpy as np"
   ]
  },
  {
   "cell_type": "code",
   "execution_count": 127,
   "metadata": {
    "collapsed": true
   },
   "outputs": [],
   "source": [
    "def generate_nested_sequence(length, min_seglen=5, max_seglen=10):\n",
    "    \"\"\"Generate low-high-low sequence, with indexes of the first/last high/middle elements\"\"\"\n",
    "\n",
    "    # Low (1-5) vs. High (6-10)\n",
    "    seq_before = [(random.randint(1,5)) for x in range(random.randint(min_seglen, max_seglen))]\n",
    "    seq_during = [(random.randint(6,9)) for x in range(random.randint(min_seglen, max_seglen))]\n",
    "    seq_after = [random.randint(1,5) for x in range(random.randint(min_seglen, max_seglen))]\n",
    "    seq = seq_before + seq_during + seq_after\n",
    "\n",
    "    # Pad it up to max len with 0's\n",
    "    seq = seq + ([0] * (length - len(seq)))\n",
    "    return [seq, len(seq_before), len(seq_before) + len(seq_during)-1]\n"
   ]
  },
  {
   "cell_type": "code",
   "execution_count": 128,
   "metadata": {
    "collapsed": true
   },
   "outputs": [],
   "source": [
    "data = generate_nested_sequence(length=L)"
   ]
  },
  {
   "cell_type": "code",
   "execution_count": 129,
   "metadata": {},
   "outputs": [],
   "source": [
    "def create_one_hot(l ,inp):\n",
    "    return inp"
   ]
  },
  {
   "cell_type": "code",
   "execution_count": 130,
   "metadata": {},
   "outputs": [
    {
     "data": {
      "text/plain": [
       "(2, 32)"
      ]
     },
     "execution_count": 130,
     "metadata": {},
     "output_type": "execute_result"
    }
   ],
   "source": [
    "train_segment_length_min = 4\n",
    "train_segment_length_max = 6\n",
    "\n",
    "batches = 32\n",
    "train_batches = []\n",
    "for batch in range(batches):\n",
    "    \n",
    "    seqs = []\n",
    "    start_indices = []\n",
    "    end_indices = []\n",
    "    for i in range(B):\n",
    "        seq, start, end = generate_nested_sequence(L, \n",
    "                                                    train_segment_length_min, \n",
    "                                                    train_segment_length_max)\n",
    "\n",
    "        start_, end_ = create_one_hot(L, start),  create_one_hot(L, end)\n",
    "        seqs.append(np.array(seq)), start_indices.append(start_), end_indices.append(end_)\n",
    "\n",
    "    seqs          = np.stack(seqs)\n",
    "    start_indices = np.array(start_indices)\n",
    "    end_indices   = np.array(end_indices)\n",
    "    indices = np.stack([start_indices, end_indices])\n",
    "    train_batches.append(np.array([seqs, indices]))\n",
    "                         \n",
    "train_batches[0][1].shape\n"
   ]
  },
  {
   "cell_type": "code",
   "execution_count": 131,
   "metadata": {},
   "outputs": [
    {
     "data": {
      "text/plain": [
       "array([[5, 4, 1, 5, 8, 7, 9, 7, 8, 4, 5, 2, 3, 1, 0, 0, 0, 0, 0, 0],\n",
       "       [3, 3, 3, 2, 2, 8, 9, 7, 7, 9, 1, 3, 4, 4, 1, 0, 0, 0, 0, 0],\n",
       "       [5, 4, 3, 2, 3, 9, 8, 6, 6, 9, 6, 5, 3, 4, 2, 0, 0, 0, 0, 0],\n",
       "       [2, 3, 2, 4, 3, 3, 9, 8, 6, 8, 5, 5, 3, 3, 3, 3, 0, 0, 0, 0],\n",
       "       [2, 3, 4, 5, 4, 3, 7, 6, 9, 9, 2, 3, 3, 3, 4, 0, 0, 0, 0, 0],\n",
       "       [2, 1, 3, 1, 3, 6, 7, 7, 6, 3, 2, 1, 2, 0, 0, 0, 0, 0, 0, 0],\n",
       "       [3, 2, 3, 4, 8, 9, 9, 9, 9, 7, 3, 3, 1, 1, 3, 0, 0, 0, 0, 0],\n",
       "       [5, 2, 2, 2, 4, 7, 6, 8, 8, 3, 1, 3, 1, 0, 0, 0, 0, 0, 0, 0],\n",
       "       [1, 1, 4, 3, 3, 2, 7, 9, 9, 6, 6, 1, 3, 1, 2, 2, 4, 0, 0, 0],\n",
       "       [1, 3, 4, 1, 6, 6, 8, 8, 2, 5, 4, 4, 0, 0, 0, 0, 0, 0, 0, 0],\n",
       "       [2, 1, 1, 1, 8, 9, 7, 8, 2, 4, 3, 2, 2, 5, 0, 0, 0, 0, 0, 0],\n",
       "       [5, 3, 4, 1, 1, 8, 6, 6, 9, 6, 3, 3, 3, 2, 4, 0, 0, 0, 0, 0],\n",
       "       [4, 4, 3, 4, 1, 9, 8, 7, 7, 3, 3, 4, 4, 5, 0, 0, 0, 0, 0, 0],\n",
       "       [5, 4, 5, 5, 5, 6, 6, 9, 7, 7, 6, 2, 4, 4, 1, 2, 1, 0, 0, 0],\n",
       "       [2, 4, 5, 5, 5, 9, 7, 8, 8, 4, 4, 3, 5, 1, 0, 0, 0, 0, 0, 0],\n",
       "       [4, 4, 1, 2, 3, 1, 6, 7, 8, 9, 9, 1, 1, 3, 3, 0, 0, 0, 0, 0],\n",
       "       [5, 4, 4, 4, 5, 8, 7, 6, 9, 7, 3, 4, 2, 3, 1, 1, 0, 0, 0, 0],\n",
       "       [4, 5, 5, 3, 2, 5, 7, 8, 7, 9, 7, 6, 1, 2, 3, 2, 2, 1, 0, 0],\n",
       "       [1, 5, 2, 2, 8, 9, 8, 8, 6, 8, 1, 1, 3, 3, 3, 0, 0, 0, 0, 0],\n",
       "       [2, 4, 3, 2, 5, 4, 7, 6, 6, 7, 9, 4, 4, 3, 4, 4, 2, 0, 0, 0],\n",
       "       [2, 2, 1, 3, 3, 6, 8, 6, 7, 1, 3, 4, 4, 0, 0, 0, 0, 0, 0, 0],\n",
       "       [5, 1, 4, 1, 6, 7, 8, 7, 8, 8, 3, 4, 3, 5, 2, 5, 0, 0, 0, 0],\n",
       "       [3, 4, 3, 3, 8, 6, 6, 9, 7, 8, 1, 4, 4, 4, 5, 4, 0, 0, 0, 0],\n",
       "       [5, 5, 2, 2, 7, 9, 6, 6, 3, 5, 1, 2, 4, 4, 0, 0, 0, 0, 0, 0],\n",
       "       [5, 2, 2, 4, 1, 3, 9, 6, 6, 8, 2, 4, 5, 1, 2, 2, 0, 0, 0, 0],\n",
       "       [4, 2, 2, 1, 5, 2, 8, 8, 6, 9, 3, 5, 4, 3, 5, 0, 0, 0, 0, 0],\n",
       "       [5, 3, 1, 1, 5, 7, 7, 9, 6, 3, 3, 1, 2, 4, 2, 0, 0, 0, 0, 0],\n",
       "       [4, 4, 1, 4, 5, 8, 9, 8, 8, 7, 1, 4, 1, 2, 1, 0, 0, 0, 0, 0],\n",
       "       [1, 1, 2, 1, 2, 1, 9, 9, 7, 8, 1, 1, 3, 2, 5, 0, 0, 0, 0, 0],\n",
       "       [4, 2, 3, 1, 8, 8, 9, 7, 4, 3, 2, 2, 0, 0, 0, 0, 0, 0, 0, 0],\n",
       "       [1, 4, 2, 1, 5, 4, 7, 9, 8, 6, 2, 1, 4, 1, 4, 3, 0, 0, 0, 0],\n",
       "       [3, 3, 5, 5, 2, 6, 7, 8, 8, 3, 3, 3, 3, 0, 0, 0, 0, 0, 0, 0]])"
      ]
     },
     "execution_count": 131,
     "metadata": {},
     "output_type": "execute_result"
    }
   ],
   "source": [
    "train_batches[0][0]"
   ]
  },
  {
   "cell_type": "code",
   "execution_count": 111,
   "metadata": {
    "collapsed": true
   },
   "outputs": [],
   "source": [
    "import numpy as np"
   ]
  },
  {
   "cell_type": "code",
   "execution_count": 117,
   "metadata": {},
   "outputs": [
    {
     "data": {
      "text/plain": [
       "array([[8, 7, 8, 1, 7],\n",
       "       [2, 2, 7, 1, 2]])"
      ]
     },
     "execution_count": 117,
     "metadata": {},
     "output_type": "execute_result"
    }
   ],
   "source": [
    "a = np.random.randint(0, 9, size=[2,5])\n",
    "a"
   ]
  },
  {
   "cell_type": "code",
   "execution_count": 119,
   "metadata": {},
   "outputs": [
    {
     "data": {
      "text/plain": [
       "array([[8, 7],\n",
       "       [8, 1],\n",
       "       [7, 2],\n",
       "       [2, 7],\n",
       "       [1, 2]])"
      ]
     },
     "execution_count": 119,
     "metadata": {},
     "output_type": "execute_result"
    }
   ],
   "source": [
    "a.reshape([5,2])"
   ]
  },
  {
   "cell_type": "markdown",
   "metadata": {},
   "source": [
    " \n",
    "   "
   ]
  },
  {
   "cell_type": "markdown",
   "metadata": {},
   "source": [
    " \n",
    "   "
   ]
  },
  {
   "cell_type": "markdown",
   "metadata": {},
   "source": [
    " \n",
    "   "
   ]
  },
  {
   "cell_type": "markdown",
   "metadata": {},
   "source": [
    " \n",
    "   "
   ]
  },
  {
   "cell_type": "markdown",
   "metadata": {},
   "source": [
    " \n",
    "   "
   ]
  },
  {
   "cell_type": "markdown",
   "metadata": {},
   "source": [
    " \n",
    "   "
   ]
  },
  {
   "cell_type": "markdown",
   "metadata": {},
   "source": [
    " \n",
    "   "
   ]
  },
  {
   "cell_type": "markdown",
   "metadata": {},
   "source": [
    " \n",
    "   "
   ]
  },
  {
   "cell_type": "markdown",
   "metadata": {},
   "source": [
    " \n",
    "   "
   ]
  },
  {
   "cell_type": "markdown",
   "metadata": {},
   "source": [
    " \n",
    "   "
   ]
  },
  {
   "cell_type": "markdown",
   "metadata": {},
   "source": [
    " \n",
    "   "
   ]
  },
  {
   "cell_type": "markdown",
   "metadata": {},
   "source": [
    " \n",
    "   "
   ]
  },
  {
   "cell_type": "markdown",
   "metadata": {},
   "source": [
    " \n",
    "   "
   ]
  },
  {
   "cell_type": "markdown",
   "metadata": {},
   "source": [
    " \n",
    "   "
   ]
  },
  {
   "cell_type": "markdown",
   "metadata": {},
   "source": [
    " \n",
    "   "
   ]
  },
  {
   "cell_type": "markdown",
   "metadata": {},
   "source": [
    " \n",
    "   "
   ]
  },
  {
   "cell_type": "markdown",
   "metadata": {},
   "source": [
    " \n",
    "   "
   ]
  },
  {
   "cell_type": "markdown",
   "metadata": {},
   "source": [
    " \n",
    "   "
   ]
  },
  {
   "cell_type": "markdown",
   "metadata": {},
   "source": [
    " \n",
    "   "
   ]
  },
  {
   "cell_type": "markdown",
   "metadata": {},
   "source": [
    " \n",
    "   "
   ]
  },
  {
   "cell_type": "markdown",
   "metadata": {},
   "source": [
    " \n",
    "   "
   ]
  },
  {
   "cell_type": "markdown",
   "metadata": {},
   "source": [
    " \n",
    "   "
   ]
  },
  {
   "cell_type": "markdown",
   "metadata": {},
   "source": [
    " \n",
    "   "
   ]
  },
  {
   "cell_type": "markdown",
   "metadata": {},
   "source": [
    " \n",
    "   "
   ]
  },
  {
   "cell_type": "markdown",
   "metadata": {},
   "source": [
    " \n",
    "   "
   ]
  },
  {
   "cell_type": "markdown",
   "metadata": {},
   "source": [
    " \n",
    "   "
   ]
  }
 ],
 "metadata": {
  "kernelspec": {
   "display_name": "tensorflow",
   "language": "python",
   "name": "tensorflow"
  },
  "language_info": {
   "codemirror_mode": {
    "name": "ipython",
    "version": 3
   },
   "file_extension": ".py",
   "mimetype": "text/x-python",
   "name": "python",
   "nbconvert_exporter": "python",
   "pygments_lexer": "ipython3",
   "version": "3.5.2"
  }
 },
 "nbformat": 4,
 "nbformat_minor": 2
}
